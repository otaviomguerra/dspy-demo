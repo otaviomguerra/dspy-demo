{
 "cells": [
  {
   "cell_type": "markdown",
   "id": "e0b60db8-5611-44ec-9996-582b5efe19df",
   "metadata": {},
   "source": [
    "## 1 - Setup and Configuration"
   ]
  },
  {
   "cell_type": "code",
   "execution_count": 1,
   "id": "bacfba9a-19b1-43f7-a6e8-eb65912cdd43",
   "metadata": {},
   "outputs": [],
   "source": [
    "import dspy\n",
    "from pprint import pprint"
   ]
  },
  {
   "cell_type": "code",
   "execution_count": 2,
   "id": "61cdad34-0fe7-489e-85c7-4456cf7c4253",
   "metadata": {},
   "outputs": [],
   "source": [
    "# ollama pull llama3:instruct"
   ]
  },
  {
   "cell_type": "markdown",
   "id": "1bcdbb1f-f367-439d-b3e6-45b989f49aae",
   "metadata": {},
   "source": [
    "### 1.1 - Configure the Language Model to be used"
   ]
  },
  {
   "cell_type": "code",
   "execution_count": 3,
   "id": "767ca185-39b2-4c83-8873-726118240e55",
   "metadata": {},
   "outputs": [],
   "source": [
    "import dspy\n",
    "llama3_ollama = dspy.OllamaLocal(model='llama3:instruct')\n",
    "# its very important to configure dspy with the LM\n",
    "dspy.settings.configure(lm=llama3_ollama, max_tokens=4096, max_len=4096)"
   ]
  },
  {
   "cell_type": "markdown",
   "id": "eca03369-c6c3-483a-82de-94b57619062c",
   "metadata": {},
   "source": [
    "## 2 - [Signatures](https://dspy-docs.vercel.app/docs/building-blocks/signatures) and Minimal Examples"
   ]
  },
  {
   "cell_type": "markdown",
   "id": "e7f6b48e-d99a-4d46-a9d9-ed14a63cef6e",
   "metadata": {},
   "source": [
    "When we assign tasks to LMs in DSPy, we specify the behavior we need as a Signature.\n",
    "\n",
    "**A signature is a declarative specification of input/output behavior of a DSPy module**. Signatures allow you to tell the LM **what** it needs to do, rather than specify **how** we should ask the LM to do it.\n",
    "\n",
    "You're probably familiar with function signatures, which specify the input and output arguments and their types. DSPy signatures are similar, but the differences are that:\n",
    "\n",
    "While typical function signatures just describe things, DSPy Signatures **define and control the behavior of modules**.\n",
    "\n",
    "The field names matter in DSPy Signatures. You express semantic roles in plain English: a ```question``` is different from an ```answer```, a ```sql_query``` is different from ```python_code```."
   ]
  },
  {
   "cell_type": "markdown",
   "id": "e94d3e83-ad7f-4eea-b17a-5fb18430c943",
   "metadata": {},
   "source": [
    "### 2.1 - Simple QA of a sentence"
   ]
  },
  {
   "cell_type": "code",
   "execution_count": 4,
   "id": "33bdc3b9-79b9-48ef-bed7-173b50d5a33b",
   "metadata": {},
   "outputs": [
    {
     "name": "stdout",
     "output_type": "stream",
     "text": [
      "---\n",
      "\n",
      "Question: What is an LLM?\n",
      "Answer: A Large Language Model, which is a type of AI model that is trained on large amounts of text data to generate human-like language outputs.\n",
      "\n",
      "---\n"
     ]
    }
   ],
   "source": [
    "# Question/Answer\n",
    "question = \"What is an LLM?\"\n",
    "qa = dspy.Predict('question -> answer') # Inline signature\n",
    "print(qa(question=question).answer)"
   ]
  },
  {
   "cell_type": "code",
   "execution_count": 5,
   "id": "0cc5aaf1-2bca-4e8d-b748-d761b31bac99",
   "metadata": {},
   "outputs": [
    {
     "name": "stdout",
     "output_type": "stream",
     "text": [
      "Sentence: I was sad when I heard the news about the disaster.\n",
      "Sentiment: Sadness\n"
     ]
    }
   ],
   "source": [
    "# Custom Signature\n",
    "class Emotion(dspy.Signature):\n",
    "    \"\"\"Classify emotion among sadness, joy, love, anger, fear, surprise.\"\"\"\n",
    "    sentence = dspy.InputField()\n",
    "    sentiment = dspy.OutputField()\n",
    "\n",
    "sentence = \"I was sad when I heard the news about the disaster.\"\n",
    "\n",
    "classify = dspy.Predict(Emotion)\n",
    "print(classify(sentence=sentence).sentiment)"
   ]
  },
  {
   "cell_type": "markdown",
   "id": "9fbc3d64-1c18-40c8-b9b3-46b1e4ba4d74",
   "metadata": {},
   "source": [
    "### 2.3 - A metric that evaluates faithfulness to citations"
   ]
  },
  {
   "cell_type": "code",
   "execution_count": 6,
   "id": "dc0300ac-631b-42d8-a11d-e844f76f7eaf",
   "metadata": {},
   "outputs": [
    {
     "name": "stdout",
     "output_type": "stream",
     "text": [
      "CONTEXT:  Ayrton Senna da Silva (21 March 1960 – 1 May 1994) was a Brazilian racing driver who won the Formula One World Drivers' Championship in 1988, 1990, and 1991.\n",
      "----------------------------------------------------------------------------------------------------\n",
      "CITATION:  Ayrton Senna only won 1 Formula One World Drivers' Championship\n",
      "----------------------------------------------------------------------------------------------------\n",
      "VALIDATION:  **False**\n"
     ]
    }
   ],
   "source": [
    "class CheckCitationFaithfulness(dspy.Signature):\n",
    "    \"\"\"Verify that the text is based on the provided context.\"\"\"\n",
    "\n",
    "    context = dspy.InputField(desc=\"facts here are assumed to be true\")\n",
    "    text = dspy.InputField()\n",
    "    faithfulness = dspy.OutputField(desc=\"True/False indicating if text is faithful to context\")\n",
    "\n",
    "context = \"Ayrton Senna da Silva (21 March 1960 – 1 May 1994) was a Brazilian racing driver who won the Formula One World Drivers' Championship in 1988, 1990, and 1991.\"\n",
    "text = \"Ayrton Senna only won 1 Formula One World Drivers' Championship\"\n",
    "\n",
    "faithfulness = dspy.ChainOfThought(CheckCitationFaithfulness)\n",
    "print(\"CONTEXT: \", context)\n",
    "print(\"-\"*100)\n",
    "print(\"CITATION: \", text)\n",
    "print(\"-\"*100)\n",
    "print(\"VALIDATION: \", faithfulness(context=context, text=text).faithfulness)"
   ]
  },
  {
   "cell_type": "markdown",
   "id": "75bc0607-5874-4cb2-8ea6-1002724204c2",
   "metadata": {},
   "source": [
    "While signatures are convenient for prototyping with structured inputs/outputs, that's not the main reason to use them!\n",
    "\n",
    "You should compose multiple signatures into bigger DSPy modules and compile these modules into optimized prompts and finetunes."
   ]
  },
  {
   "cell_type": "markdown",
   "id": "39cc65cd-623d-41c8-9be7-5bde29bfbe12",
   "metadata": {},
   "source": [
    "## 3 - [Modules](https://dspy-docs.vercel.app/docs/building-blocks/modules)"
   ]
  },
  {
   "cell_type": "markdown",
   "id": "3ba9349d-e1e5-4a44-932f-c6973470f66e",
   "metadata": {},
   "source": [
    "A **DSPy module** is a building block for programs that use LMs.\n",
    "\n",
    "Each built-in module abstracts a **prompting technique** (like chain of thought or ReAct). Crucially, they are generalized to handle any DSPy Signature.\n",
    "\n",
    "A DSPy module has **learnable parameters** (i.e., the little pieces comprising the prompt and the LM weights) and can be invoked (called) to process inputs and return outputs.\n",
    "\n",
    "\n",
    "\n",
    "The fundamental module: **dspy.Predict** is a basic predictor. Does not modify the signature. Handles the key forms of learning (i.e., storing the instructions and demonstrations and updates to the LM).\n",
    "\n",
    "DSPy has some built-in modules for common prompt techniques all built based on the **dspy.Predict** module:\n",
    "\n",
    "1. **dspy.ChainOfThought**: Teaches the LM to think step-by-step before committing to the signature's response.\n",
    "2. **dspy.ProgramOfThought**: Teaches the LM to output code, whose execution results will dictate the response.\n",
    "3. **dspy.ReAct**: An agent that can use tools to implement the given signature.\n",
    "4. **dspy.MultiChainComparison**: Can compare multiple outputs from ```ChainOfThought``` to produce a final prediction.\n",
    "5. **dspy.majority**: Can do basic voting to return the most popular response from a set of predictions."
   ]
  },
  {
   "cell_type": "markdown",
   "id": "25d88a64-b4a1-451b-9a56-88a7fdbef174",
   "metadata": {},
   "source": [
    "### 3.1 - Example Using ChainOfThought Module\n",
    "\n",
    "To use a module, we first declare it by giving it a signature. Then we call the module with the input arguments, and extract the output fields!\n",
    "\n",
    "DSPy is just Python code that uses modules in any control flow you like. (There's some magic internally at ```compile``` time to trace your LM calls.)\n",
    "\n",
    "What this means is that, you can just call the modules freely. No weird abstractions for chaining calls. This is basically PyTorch's design approach for define-by-run / dynamic computation graphs."
   ]
  },
  {
   "cell_type": "code",
   "execution_count": 7,
   "id": "9d9c0533-a031-4941-a1ee-8e5555677271",
   "metadata": {},
   "outputs": [
    {
     "name": "stdout",
     "output_type": "stream",
     "text": [
      "DOCUMENT: \n",
      "Ayrton Senna da Silva (21 March 1960 – 1 May 1994) was a Brazilian racing driver who won the Formula One World Drivers' Championship in 1988, 1990, and 1991. One of three Formula One drivers from Brazil to become World Champion, Senna won 41 Grands Prix and set 65 pole positions, with the latter being the record until 2006. He died as a result of an accident while leading the 1994 San Marino Grand Prix, driving for the Williams team.Senna began his motorsport career in karting, moved up to open-wheel racing in 1981 and won the 1983 British Formula Three Championship. He made his Formula One debut with Toleman-Hart in 1984, before moving to Lotus-Renault for the 1985 season and winning six Grands Prix over the next three seasons. In 1988, he joined Frenchman Alain Prost at McLaren-Honda. Between them, they won all but one of the 16 Grands Prix that year, and Senna claimed his first World Championship. Prost claimed the championship in 1989, and Senna his second and third championships in the 1990 and 1991 seasons. In 1992, the Williams-Renault combination began to dominate Formula One. Senna managed to finish the 1993 season as runner-up, winning five races and negotiating a move to Williams in 1994.\n",
      "\n",
      "----------------------------------------------------------------------------------------------------\n",
      "\n",
      "SUMMMARY: \n",
      "Ayrton Senna was a Brazilian racing driver who won the Formula One World Drivers' Championship three times, with a total of 41 Grands Prix and 65 pole positions. He died in an accident while leading the 1994 San Marino Grand Prix, driving for the Williams team.\n"
     ]
    }
   ],
   "source": [
    "class ShortSummarizer(dspy.Signature):\n",
    "    \"\"\"Summarize the document provided in the context in 2 sentences.\"\"\"\n",
    "    document = dspy.InputField(desc=\"a document/text to summarize\")\n",
    "    summary = dspy.OutputField(desc=\"a 2 sentence summary of information in the document.\")\n",
    "\n",
    "# Pass signature to ChainOfThought Module\n",
    "summarizer = dspy.ChainOfThought(ShortSummarizer)\n",
    "document = \"Ayrton Senna da Silva (21 March 1960 – 1 May 1994) was a Brazilian racing driver who won the Formula One World Drivers' Championship in 1988, 1990, and 1991. One of three Formula One drivers from Brazil to become World Champion, Senna won 41 Grands Prix and set 65 pole positions, with the latter being the record until 2006. He died as a result of an accident while leading the 1994 San Marino Grand Prix, driving for the Williams team.Senna began his motorsport career in karting, moved up to open-wheel racing in 1981 and won the 1983 British Formula Three Championship. He made his Formula One debut with Toleman-Hart in 1984, before moving to Lotus-Renault for the 1985 season and winning six Grands Prix over the next three seasons. In 1988, he joined Frenchman Alain Prost at McLaren-Honda. Between them, they won all but one of the 16 Grands Prix that year, and Senna claimed his first World Championship. Prost claimed the championship in 1989, and Senna his second and third championships in the 1990 and 1991 seasons. In 1992, the Williams-Renault combination began to dominate Formula One. Senna managed to finish the 1993 season as runner-up, winning five races and negotiating a move to Williams in 1994.\"\n",
    "\n",
    "response = summarizer(document=document)\n",
    "\n",
    "print(f\"DOCUMENT: \\n{document}\\n\")\n",
    "print(\"-\"*100)\n",
    "print(f\"\\nSUMMMARY: \\n{response.summary}\")"
   ]
  },
  {
   "cell_type": "markdown",
   "id": "0bdbebd4-9f6f-4b27-aa66-bc17bf9fc737",
   "metadata": {},
   "source": [
    "## 4 - [Data](https://dspy-docs.vercel.app/docs/building-blocks/data)"
   ]
  },
  {
   "cell_type": "markdown",
   "id": "bf28a86a-b891-4467-9fd5-6ae088827cc4",
   "metadata": {},
   "source": [
    "DSPy is a ML framework, so working in it involves training sets, development sets, and test sets.\n",
    "\n",
    "For each example in your data, we distinguish typically between three types of values: the inputs, the intermediate labels, and the final label. You can use DSPy effectively without any intermediate or final labels, but you will need at least a few example inputs."
   ]
  },
  {
   "cell_type": "markdown",
   "id": "c73bd549-54af-496d-813d-cfe79ea69cd0",
   "metadata": {},
   "source": [
    "### 4.1 - The ```Examples``` data type\n",
    "\n",
    "The core data type for data in DSPy is Example. You will use Examples to represent items in your training set and test set."
   ]
  },
  {
   "cell_type": "code",
   "execution_count": 8,
   "id": "7f476588-14c4-4b22-9bb1-fbd2abe7a607",
   "metadata": {},
   "outputs": [
    {
     "name": "stdout",
     "output_type": "stream",
     "text": [
      "Example({'question': 'This is a question?', 'answer': 'This is an answer.'}) (input_keys=None)\n",
      "This is a question?\n",
      "This is an answer.\n"
     ]
    }
   ],
   "source": [
    "qa_pair = dspy.Example(question=\"This is a question?\", answer=\"This is an answer.\")\n",
    "\n",
    "print(qa_pair)\n",
    "print(qa_pair.question)\n",
    "print(qa_pair.answer)"
   ]
  },
  {
   "cell_type": "markdown",
   "id": "5abecf46-64f5-4f1c-be65-5c42ce9dadcf",
   "metadata": {},
   "source": [
    "You can specify fields like inputs/outputs:"
   ]
  },
  {
   "cell_type": "code",
   "execution_count": 9,
   "id": "5ae89211-3ad9-4edc-8935-d13e3fc012b8",
   "metadata": {},
   "outputs": [
    {
     "name": "stdout",
     "output_type": "stream",
     "text": [
      "Example object with Input fields only: Example({'article': 'This is an article.'}) (input_keys=None)\n",
      "Example object with Non-Input fields only: Example({'summary': 'This is a summary.'}) (input_keys=None)\n"
     ]
    }
   ],
   "source": [
    "article_summary = dspy.Example(article= \"This is an article.\", summary= \"This is a summary.\").with_inputs(\"article\")\n",
    "\n",
    "input_key_only = article_summary.inputs()\n",
    "non_input_key_only = article_summary.labels()\n",
    "\n",
    "print(\"Example object with Input fields only:\", input_key_only)\n",
    "print(\"Example object with Non-Input fields only:\", non_input_key_only)"
   ]
  },
  {
   "cell_type": "markdown",
   "id": "155e9339-7559-419c-af8a-4a494153c4ef",
   "metadata": {},
   "source": [
    "## 5 - [Metrics](https://dspy-docs.vercel.app/docs/building-blocks/metrics)"
   ]
  },
  {
   "cell_type": "markdown",
   "id": "c0b845d0-0968-4a66-9d82-f702a191f764",
   "metadata": {},
   "source": [
    "**What is a metric and how do I define a metric for my task?**\n",
    "\n",
    "A metric is just a function that will take examples from your data and take the output of your system, and return a score that quantifies how good the output is."
   ]
  },
  {
   "cell_type": "markdown",
   "id": "518dd05f-4ad4-430f-86c9-d3677e36f881",
   "metadata": {},
   "source": [
    "### 5.1 - Examples of a metric in DSPy"
   ]
  },
  {
   "cell_type": "code",
   "execution_count": 10,
   "id": "665cb1f0-cca2-491c-9d59-188dfc645672",
   "metadata": {},
   "outputs": [],
   "source": [
    "def validate_answer(example, pred, trace=None):\n",
    "    return example.answer.lower() == pred.answer.lower()"
   ]
  },
  {
   "cell_type": "code",
   "execution_count": 11,
   "id": "5a3e1d4c-39e1-481d-b4e7-954c4f5640c3",
   "metadata": {},
   "outputs": [],
   "source": [
    "# More complex Metric\n",
    "def validate_context_and_answer(example, pred, trace=None):\n",
    "    # check the gold label and the predicted answer are the same\n",
    "    answer_match = example.answer.lower() == pred.answer.lower()\n",
    "\n",
    "    # check the predicted answer comes from one of the retrieved contexts\n",
    "    context_match = any((pred.answer.lower() in c) for c in pred.context)\n",
    "\n",
    "    if trace is None: # if we're doing evaluation or optimization\n",
    "        return (answer_match + context_match) / 2.0\n",
    "    else: # if we're doing bootstrapping, i.e. self-generating good demonstrations of each step\n",
    "        return answer_match and context_match"
   ]
  },
  {
   "cell_type": "markdown",
   "id": "356f3f54-7a03-4fac-842c-64e3e274f4e1",
   "metadata": {},
   "source": [
    "### 5.2 - The ```Evaluate``` built-in utility"
   ]
  },
  {
   "cell_type": "code",
   "execution_count": 13,
   "id": "e0cc5f79-ebfb-468d-9311-c13e1db08f69",
   "metadata": {},
   "outputs": [],
   "source": [
    "from dspy.evaluate import Evaluate\n",
    "\n",
    "# Set up the evaluator, which can be re-used in your code.\n",
    "evaluator = Evaluate(devset=[], num_threads=1, display_progress=True, display_table=5)\n",
    "\n",
    "# Launch evaluation.\n",
    "#evaluator(YOUR_PROGRAM, metric=YOUR_METRIC)"
   ]
  },
  {
   "cell_type": "markdown",
   "id": "aacebe04-ba0b-4281-91c3-3da43f929475",
   "metadata": {},
   "source": [
    "## 6 - [Optimizers](https://dspy-docs.vercel.app/docs/building-blocks/optimizers)"
   ]
  },
  {
   "cell_type": "markdown",
   "id": "285d5ab9-19e0-4069-9249-e2765bdf11fb",
   "metadata": {},
   "source": [
    "A DSPy **optimizer** is an algorithm that can *tune the parameters* of a DSPy program (i.e., the prompts and/or the LM weights) to maximize the metrics you specify, like accuracy.\n",
    "\n",
    "There are many built-in optimizers in DSPy, which apply vastly different strategies. A typical DSPy optimizer takes 3 things:\n",
    "\n",
    "* Your **DSPy program**. This may be a single module (e.g., dspy.Predict) or a complex multi-module program.\n",
    "\n",
    "* Your **metric**. This is a function that evaluates the output of your program, and assigns it a score (higher is better).\n",
    "\n",
    "* **A few training inputs**. This may be very small (i.e., only 5 or 10 examples) and incomplete (only inputs to your program, without any labels).\n",
    "\n",
    "**What does an Optimizer tune?**\n",
    "\n",
    "1. The LM weights\n",
    "2. The instructions\n",
    "3. Demonstrations of the input/output behavior."
   ]
  },
  {
   "cell_type": "markdown",
   "id": "eed7ce42-5bff-44ad-803f-1b8e6d68448e",
   "metadata": {},
   "source": [
    "### 6.1 - Example of an optimizer"
   ]
  },
  {
   "cell_type": "code",
   "execution_count": 15,
   "id": "9de35c75-2c30-4153-8169-e039697a5cc2",
   "metadata": {},
   "outputs": [],
   "source": [
    "from dspy.teleprompt import BootstrapFewShotWithRandomSearch\n",
    "\n",
    "# Set up the optimizer: we want to \"bootstrap\" (i.e., self-generate) 8-shot examples of your program's steps.\n",
    "# The optimizer will repeat this 10 times (plus some initial attempts) before selecting its best attempt on the devset.\n",
    "config = dict(max_bootstrapped_demos=3, max_labeled_demos=3, num_candidate_programs=10, num_threads=4)\n",
    "\n",
    "#teleprompter = BootstrapFewShotWithRandomSearch(metric=YOUR_METRIC_HERE, **config)\n",
    "#optimized_program = teleprompter.compile(YOUR_PROGRAM_HERE, trainset=YOUR_TRAINSET_HERE)"
   ]
  },
  {
   "cell_type": "markdown",
   "id": "18e73c7a-48f9-4472-ace4-6eb22a01bb82",
   "metadata": {},
   "source": [
    "### 6.2 - Save a DSPy program after optimization\n",
    "\n",
    "You can save your DSPy optimized programs with:\n",
    "\n",
    "\n",
    "```python\n",
    "optimized_program.save(YOUR_SAVE_PATH)\n",
    "```\n",
    "\n",
    "You can load it aftewards with:\n",
    "\n",
    "```python\n",
    "loaded_program = YOUR_PROGRAM_CLASS()\n",
    "loaded_program.load(path=YOUR_SAVE_PATH)\n",
    "```\n"
   ]
  },
  {
   "cell_type": "code",
   "execution_count": null,
   "id": "614ea697-f2dc-41b1-80bc-d08a18826729",
   "metadata": {},
   "outputs": [],
   "source": []
  }
 ],
 "metadata": {
  "kernelspec": {
   "display_name": "Python 3 (ipykernel)",
   "language": "python",
   "name": "python3"
  },
  "language_info": {
   "codemirror_mode": {
    "name": "ipython",
    "version": 3
   },
   "file_extension": ".py",
   "mimetype": "text/x-python",
   "name": "python",
   "nbconvert_exporter": "python",
   "pygments_lexer": "ipython3",
   "version": "3.12.3"
  }
 },
 "nbformat": 4,
 "nbformat_minor": 5
}
