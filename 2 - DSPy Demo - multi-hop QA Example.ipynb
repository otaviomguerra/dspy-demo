{
 "cells": [
  {
   "cell_type": "markdown",
   "id": "726c65b2-0b32-417f-9ab0-d037e41094d3",
   "metadata": {},
   "source": [
    "# A Multi-hop QA Example with DSPy\n",
    "\n",
    "We will do the below steps:\n",
    "\n",
    "1. Load the Language Model and Retrieval Model\n",
    "2. Load the \"question-answer pairs\" [HotPotQA](https://hotpotqa.github.io/) dataset to compile (train) the DsPy program\n",
    "3. Build the signatures\n",
    "4. Define the pipeline (as a module)\n",
    "5. Define the evaluation metric\n",
    "6. Compile (train) the pipeline with an optimizer (lets use ```BootstrapFewShot```)\n",
    "7. Evaluate and compare the Compiled and Uncompiled pipeline"
   ]
  },
  {
   "cell_type": "markdown",
   "id": "b6833d16-0df2-463a-91f1-0585f7744822",
   "metadata": {},
   "source": [
    "## 1 - Load the Language Model and Retriever and [Dataset](https://hotpotqa.github.io/)"
   ]
  },
  {
   "cell_type": "code",
   "execution_count": 1,
   "id": "27cfc100-6ee5-4c6b-ac5f-11ab55ec0954",
   "metadata": {},
   "outputs": [],
   "source": [
    "import dspy\n",
    "llama3_ollama = dspy.OllamaLocal(model='llama3:instruct')\n",
    "# its very important to configure dspy with the LM\n",
    "dspy.settings.configure(lm=llama3_ollama, max_tokens=4096, max_len=4096)"
   ]
  },
  {
   "cell_type": "code",
   "execution_count": 2,
   "id": "19c4fce7-d5b9-47df-86cf-30a40d019fc4",
   "metadata": {},
   "outputs": [],
   "source": [
    "colbertv2_wiki17_abstracts = dspy.ColBERTv2(url='http://20.102.90.50:2017/wiki17_abstracts')\n",
    "dspy.settings.configure(lm=llama3_ollama, rm=colbertv2_wiki17_abstracts, max_tokens=1024)"
   ]
  },
  {
   "cell_type": "code",
   "execution_count": 3,
   "id": "a99d66c6-26fc-44bd-b8c5-af166005d024",
   "metadata": {},
   "outputs": [
    {
     "name": "stderr",
     "output_type": "stream",
     "text": [
      "/home/templar/Desktop/projects/zaz/internal-projects/pocs/dspy-demo/venv/lib/python3.12/site-packages/datasets/table.py:1421: FutureWarning: promote has been superseded by promote_options='default'.\n",
      "  table = cls._concat_blocks(blocks, axis=0)\n"
     ]
    },
    {
     "data": {
      "text/plain": [
       "(30, 50)"
      ]
     },
     "execution_count": 3,
     "metadata": {},
     "output_type": "execute_result"
    }
   ],
   "source": [
    "from dspy.datasets import HotPotQA\n",
    "\n",
    "# Load the dataset.\n",
    "dataset = HotPotQA(\n",
    "    train_seed=1, \n",
    "    train_size=30, \n",
    "    eval_seed=2023, \n",
    "    dev_size=50, \n",
    "    test_size=0\n",
    ")\n",
    "\n",
    "# Tell DSPy that the 'question' field is the input. Any other fields are labels and/or metadata.\n",
    "trainset = [x.with_inputs('question') for x in dataset.train]\n",
    "devset = [x.with_inputs('question') for x in dataset.dev]\n",
    "\n",
    "len(trainset), len(devset)"
   ]
  },
  {
   "cell_type": "markdown",
   "id": "ac94e4ba-4d3c-47e9-8a2b-4c36591bc0cb",
   "metadata": {},
   "source": [
    "## 2 - Build Signature"
   ]
  },
  {
   "cell_type": "code",
   "execution_count": 4,
   "id": "59b3075c-7700-4b58-810f-de4c93bf4489",
   "metadata": {},
   "outputs": [],
   "source": [
    "class GenerateAnswer(dspy.Signature):\n",
    "    \"\"\"Answer questions with short factoid answers.\"\"\"\n",
    "    context = dspy.InputField(desc=\"may contain relevant facts\")\n",
    "    question = dspy.InputField()\n",
    "    answer = dspy.OutputField(desc=\"often between 1 and 5 words\")"
   ]
  },
  {
   "cell_type": "code",
   "execution_count": 5,
   "id": "b2cc46ff-42de-42a5-89b0-755defa3bc5c",
   "metadata": {},
   "outputs": [],
   "source": [
    "class GenerateSearchQuery(dspy.Signature):\n",
    "    \"\"\"Write a simple search query that will help answer a complex question.\"\"\"\n",
    "    context = dspy.InputField(desc=\"may contain relevant facts\")\n",
    "    question = dspy.InputField()\n",
    "    query = dspy.OutputField()"
   ]
  },
  {
   "cell_type": "markdown",
   "id": "746f2e4e-9bcf-44e9-82d5-697862fe04d0",
   "metadata": {},
   "source": [
    "## 3 - Define the Pipeline"
   ]
  },
  {
   "cell_type": "code",
   "execution_count": 6,
   "id": "0770ef6b-e045-412a-bdb6-b67f71455bb1",
   "metadata": {},
   "outputs": [],
   "source": [
    "from dsp.utils import deduplicate\n",
    "\n",
    "class SimplifiedBaleen(dspy.Module):\n",
    "    def __init__(self, passages_per_hop=3, max_hops=2):\n",
    "        super().__init__()\n",
    "        self.generate_query = [dspy.ChainOfThought(GenerateSearchQuery) for _ in range(max_hops)]\n",
    "        self.retrieve = dspy.Retrieve(k=passages_per_hop)\n",
    "        self.generate_answer = dspy.ChainOfThought(GenerateAnswer)\n",
    "        self.max_hops = max_hops\n",
    "    \n",
    "    def forward(self, question):\n",
    "        context = []\n",
    "        for hop in range(self.max_hops):\n",
    "            query = self.generate_query[hop](context=context, question=question).query\n",
    "            passages = self.retrieve(query).passages\n",
    "            context = deduplicate(context + passages)\n",
    "\n",
    "        pred = self.generate_answer(context=context, question=question)\n",
    "        return dspy.Prediction(context=context, answer=pred.answer)"
   ]
  },
  {
   "cell_type": "markdown",
   "id": "bef51487-cb5d-40d3-a407-bef037fc5563",
   "metadata": {},
   "source": [
    "## 4 - Define the Metric"
   ]
  },
  {
   "cell_type": "code",
   "execution_count": 7,
   "id": "33f21bad-a03f-4701-99b8-337575965ff3",
   "metadata": {},
   "outputs": [],
   "source": [
    "def validate_context_and_answer_and_hops(example, pred, trace=None):\n",
    "    # The predicted answer matches the gold answer.\n",
    "    if not dspy.evaluate.answer_exact_match(example, pred): \n",
    "        return False\n",
    "    # The retrieved context contains the gold answer.\n",
    "    if not dspy.evaluate.answer_passage_match(example, pred): \n",
    "        return False\n",
    "\n",
    "    hops = [example.question] + [outputs.query for *_, outputs in trace if 'query' in outputs]\n",
    "    # None of the generated queries exceeds 100 characters in length)\n",
    "    if max([len(h) for h in hops]) > 100: \n",
    "        return False\n",
    "        \n",
    "    # None of the generated queries is roughly repeated \n",
    "    # (i.e., none is within 0.8 or higher F1 score of earlier queries).\n",
    "    if any(dspy.evaluate.answer_exact_match_str(hops[idx], hops[:idx], frac=0.8) for idx in range(2, len(hops))): \n",
    "        return False\n",
    "        \n",
    "    return True"
   ]
  },
  {
   "cell_type": "markdown",
   "id": "96caf27b-7ce3-47fc-8329-8398974acd9e",
   "metadata": {},
   "source": [
    "## 5 - Compile the DSPy Program/pipeline (train)"
   ]
  },
  {
   "cell_type": "code",
   "execution_count": 8,
   "id": "4b953b4f-f544-47bf-a623-b20646856136",
   "metadata": {},
   "outputs": [
    {
     "name": "stderr",
     "output_type": "stream",
     "text": [
      "100%|█████████████████████████████████████████████████████████████████████████████████████████████████████████████████████████████████████| 30/30 [10:13<00:00, 20.46s/it]"
     ]
    },
    {
     "name": "stdout",
     "output_type": "stream",
     "text": [
      "CPU times: user 744 ms, sys: 163 ms, total: 907 ms\n",
      "Wall time: 10min 14s\n"
     ]
    },
    {
     "name": "stderr",
     "output_type": "stream",
     "text": [
      "\n"
     ]
    }
   ],
   "source": [
    "%%time\n",
    "\n",
    "from dspy.teleprompt import BootstrapFewShot\n",
    "\n",
    "# Define Optimizer\n",
    "optimizer = BootstrapFewShot(metric=validate_context_and_answer_and_hops)\n",
    "\n",
    "# Compile\n",
    "compiled_baleen = optimizer.compile(\n",
    "    SimplifiedBaleen(), \n",
    "    teacher=SimplifiedBaleen(passages_per_hop=2), \n",
    "    trainset=trainset\n",
    ")"
   ]
  },
  {
   "cell_type": "markdown",
   "id": "429edb23-9d8c-4c29-8cc0-c4c5ba16174e",
   "metadata": {},
   "source": [
    "## 6 - Evaluate compiled and uncompiled pipelines"
   ]
  },
  {
   "cell_type": "markdown",
   "id": "1f91a2d0-8e19-4822-a2e6-3e52253193f1",
   "metadata": {},
   "source": [
    "### 6.1 - Uncompiled Example"
   ]
  },
  {
   "cell_type": "code",
   "execution_count": 9,
   "id": "054a84ec-533a-4361-9d17-09fab36d0f16",
   "metadata": {},
   "outputs": [
    {
     "name": "stdout",
     "output_type": "stream",
     "text": [
      "Question: How many storeys are in the castle that David Gregory inherited?\n",
      "Predicted Answer: 5\n",
      "Retrieved Contexts (truncated): ['David Gregory (physician) | David Gregory (20 December 1625 – 1720) was a Scottish physician and inventor. His surname is sometimes spelt as Gregorie, the original Scottish spelling. He inherited Kinn...', 'David Gregory (historian) | David Gregory (1696–1767) was an English churchman and academic, Dean of Christ Church, Oxford and the first Regius Professor of Modern History at Oxford....', 'David Gregory (mathematician) | David Gregory (originally spelt Gregorie) FRS (? 1659 – 10 October 1708) was a Scottish mathematician and astronomer. He was professor of mathematics at the University ...', 'Kinnairdy Castle | Kinnairdy Castle is a tower house, having five storeys and a garret, two miles south of Aberchirder, Aberdeenshire, Scotland. The alternative name is Old Kinnairdy....', 'Kinnaird Castle, Brechin | Kinnaird Castle is a 15th-century castle in Angus, Scotland. The castle has been home to the Carnegie family, the Earl of Southesk, for more than 600 years....', 'Kinnaird Head | Kinnaird Head (Scottish Gaelic: \"An Ceann Àrd\" , \"high headland\") is a headland projecting into the North Sea, within the town of Fraserburgh, Aberdeenshire on the east coast of Scotla...']\n"
     ]
    }
   ],
   "source": [
    "# Ask any question you like to this simple RAG program.\n",
    "my_question = \"How many storeys are in the castle that David Gregory inherited?\"\n",
    "\n",
    "# Get the prediction from uncompiled Baleen\n",
    "uncompiled_baleen = SimplifiedBaleen()\n",
    "pred = uncompiled_baleen(my_question)\n",
    "\n",
    "# Print the contexts and the answer.\n",
    "print(f\"Question: {my_question}\")\n",
    "print(f\"Predicted Answer: {pred.answer}\")\n",
    "print(f\"Retrieved Contexts (truncated): {[c[:200] + '...' for c in pred.context]}\")"
   ]
  },
  {
   "cell_type": "markdown",
   "id": "7f42c510-bbca-4970-bdc0-6bdbde562b66",
   "metadata": {},
   "source": [
    "### 6.2 - Compiled Example"
   ]
  },
  {
   "cell_type": "code",
   "execution_count": 10,
   "id": "41bee597-9312-43b8-87eb-51663ab8c4b6",
   "metadata": {},
   "outputs": [
    {
     "name": "stdout",
     "output_type": "stream",
     "text": [
      "Question: How many storeys are in the castle that David Gregory inherited?\n",
      "Predicted Answer: 5\n",
      "Retrieved Contexts (truncated): ['David Gregory (physician) | David Gregory (20 December 1625 – 1720) was a Scottish physician and inventor. His surname is sometimes spelt as Gregorie, the original Scottish spelling. He inherited Kinn...', 'David Gregory (historian) | David Gregory (1696–1767) was an English churchman and academic, Dean of Christ Church, Oxford and the first Regius Professor of Modern History at Oxford....', 'David Gregory (mathematician) | David Gregory (originally spelt Gregorie) FRS (? 1659 – 10 October 1708) was a Scottish mathematician and astronomer. He was professor of mathematics at the University ...', 'Kinnairdy Castle | Kinnairdy Castle is a tower house, having five storeys and a garret, two miles south of Aberchirder, Aberdeenshire, Scotland. The alternative name is Old Kinnairdy....', 'Kinnaird Castle, Brechin | Kinnaird Castle is a 15th-century castle in Angus, Scotland. The castle has been home to the Carnegie family, the Earl of Southesk, for more than 600 years....', 'Kinnaird Head | Kinnaird Head (Scottish Gaelic: \"An Ceann Àrd\" , \"high headland\") is a headland projecting into the North Sea, within the town of Fraserburgh, Aberdeenshire on the east coast of Scotla...']\n"
     ]
    }
   ],
   "source": [
    "# Ask any question you like to this simple RAG program.\n",
    "my_question = \"How many storeys are in the castle that David Gregory inherited?\"\n",
    "\n",
    "# Get the prediction from uncompiled Baleen\n",
    "pred_compiled = compiled_baleen(my_question)\n",
    "\n",
    "# Print the contexts and the answer.\n",
    "print(f\"Question: {my_question}\")\n",
    "print(f\"Predicted Answer: {pred_compiled.answer}\")\n",
    "print(f\"Retrieved Contexts (truncated): {[c[:200] + '...' for c in pred_compiled.context]}\")"
   ]
  },
  {
   "cell_type": "markdown",
   "id": "842c1ec7-bd47-4bc9-9ead-482d5d39f913",
   "metadata": {},
   "source": [
    "### 6.3 - Performance Comparison between Compiled and Uncompiled"
   ]
  },
  {
   "cell_type": "code",
   "execution_count": 11,
   "id": "b34d9ca7-30ce-43b6-96b7-930995d1f349",
   "metadata": {},
   "outputs": [],
   "source": [
    "def gold_passages_retrieved(example, pred, trace=None):\n",
    "    gold_titles = set(map(dspy.evaluate.normalize_text, example['gold_titles']))\n",
    "    found_titles = set(map(dspy.evaluate.normalize_text, [c.split(' | ')[0] for c in pred.context]))\n",
    "    return gold_titles.issubset(found_titles)"
   ]
  },
  {
   "cell_type": "code",
   "execution_count": 12,
   "id": "971a6f32-9970-4a33-89bf-77845e841c08",
   "metadata": {},
   "outputs": [],
   "source": [
    "from dspy.evaluate.evaluate import Evaluate\n",
    "# Set up the `evaluate_on_hotpotqa` function.\n",
    "evaluate_on_hotpotqa = Evaluate(\n",
    "    devset=devset, \n",
    "    num_threads=1, \n",
    "    display_progress=True, \n",
    "    display_table=5\n",
    ")"
   ]
  },
  {
   "cell_type": "code",
   "execution_count": 13,
   "id": "46275897-3e91-407f-8d5d-0a2a82704d3d",
   "metadata": {},
   "outputs": [
    {
     "name": "stdout",
     "output_type": "stream",
     "text": [
      "Average Metric: 15 / 50  (30.0): 100%|████████████████████████████████████████████████████████████████████████████████████████████████████| 50/50 [16:22<00:00, 19.65s/it]\n"
     ]
    },
    {
     "data": {
      "text/html": [
       "<style type=\"text/css\">\n",
       "#T_e45e9 th {\n",
       "  text-align: left;\n",
       "}\n",
       "#T_e45e9 td {\n",
       "  text-align: left;\n",
       "}\n",
       "#T_e45e9_row0_col0, #T_e45e9_row0_col1, #T_e45e9_row0_col2, #T_e45e9_row0_col3, #T_e45e9_row0_col4, #T_e45e9_row0_col5, #T_e45e9_row1_col0, #T_e45e9_row1_col1, #T_e45e9_row1_col2, #T_e45e9_row1_col3, #T_e45e9_row1_col4, #T_e45e9_row1_col5, #T_e45e9_row2_col0, #T_e45e9_row2_col1, #T_e45e9_row2_col2, #T_e45e9_row2_col3, #T_e45e9_row2_col4, #T_e45e9_row2_col5, #T_e45e9_row3_col0, #T_e45e9_row3_col1, #T_e45e9_row3_col2, #T_e45e9_row3_col3, #T_e45e9_row3_col4, #T_e45e9_row3_col5, #T_e45e9_row4_col0, #T_e45e9_row4_col1, #T_e45e9_row4_col2, #T_e45e9_row4_col3, #T_e45e9_row4_col4, #T_e45e9_row4_col5 {\n",
       "  text-align: left;\n",
       "  white-space: pre-wrap;\n",
       "  word-wrap: break-word;\n",
       "  max-width: 400px;\n",
       "}\n",
       "</style>\n",
       "<table id=\"T_e45e9\">\n",
       "  <thead>\n",
       "    <tr>\n",
       "      <th class=\"blank level0\" >&nbsp;</th>\n",
       "      <th id=\"T_e45e9_level0_col0\" class=\"col_heading level0 col0\" >question</th>\n",
       "      <th id=\"T_e45e9_level0_col1\" class=\"col_heading level0 col1\" >example_answer</th>\n",
       "      <th id=\"T_e45e9_level0_col2\" class=\"col_heading level0 col2\" >gold_titles</th>\n",
       "      <th id=\"T_e45e9_level0_col3\" class=\"col_heading level0 col3\" >context</th>\n",
       "      <th id=\"T_e45e9_level0_col4\" class=\"col_heading level0 col4\" >pred_answer</th>\n",
       "      <th id=\"T_e45e9_level0_col5\" class=\"col_heading level0 col5\" >gold_passages_retrieved</th>\n",
       "    </tr>\n",
       "  </thead>\n",
       "  <tbody>\n",
       "    <tr>\n",
       "      <th id=\"T_e45e9_level0_row0\" class=\"row_heading level0 row0\" >0</th>\n",
       "      <td id=\"T_e45e9_row0_col0\" class=\"data row0 col0\" >Are both Cangzhou and Qionghai in the Hebei province of China?</td>\n",
       "      <td id=\"T_e45e9_row0_col1\" class=\"data row0 col1\" >no</td>\n",
       "      <td id=\"T_e45e9_row0_col2\" class=\"data row0 col2\" >{'Cangzhou', 'Qionghai'}</td>\n",
       "      <td id=\"T_e45e9_row0_col3\" class=\"data row0 col3\" >['Cangzhou | Cangzhou () is a prefecture-level city in eastern Hebei province, People\\'s Republic of China. At the 2010 census, Cangzhou\\'s built-up (\"or metro\") area...</td>\n",
       "      <td id=\"T_e45e9_row0_col4\" class=\"data row0 col4\" >No</td>\n",
       "      <td id=\"T_e45e9_row0_col5\" class=\"data row0 col5\" >False</td>\n",
       "    </tr>\n",
       "    <tr>\n",
       "      <th id=\"T_e45e9_level0_row1\" class=\"row_heading level0 row1\" >1</th>\n",
       "      <td id=\"T_e45e9_row1_col0\" class=\"data row1 col0\" >Who conducts the draft in which Marc-Andre Fleury was drafted to the Vegas Golden Knights for the 2017-18 season?</td>\n",
       "      <td id=\"T_e45e9_row1_col1\" class=\"data row1 col1\" >National Hockey League</td>\n",
       "      <td id=\"T_e45e9_row1_col2\" class=\"data row1 col2\" >{'2017 NHL Expansion Draft', '2017–18 Pittsburgh Penguins season'}</td>\n",
       "      <td id=\"T_e45e9_row1_col3\" class=\"data row1 col3\" >[\"Marc-André Fleury | Marc-André Fleury (born November 28, 1984) is a French-Canadian professional ice hockey goaltender playing for the Vegas Golden Knights of the National...</td>\n",
       "      <td id=\"T_e45e9_row1_col4\" class=\"data row1 col4\" >NHL</td>\n",
       "      <td id=\"T_e45e9_row1_col5\" class=\"data row1 col5\" >✔️ [True]</td>\n",
       "    </tr>\n",
       "    <tr>\n",
       "      <th id=\"T_e45e9_level0_row2\" class=\"row_heading level0 row2\" >2</th>\n",
       "      <td id=\"T_e45e9_row2_col0\" class=\"data row2 col0\" >The Wings entered a new era, following the retirement of which Canadian retired professional ice hockey player and current general manager of the Tampa Bay...</td>\n",
       "      <td id=\"T_e45e9_row2_col1\" class=\"data row2 col1\" >Steve Yzerman</td>\n",
       "      <td id=\"T_e45e9_row2_col2\" class=\"data row2 col2\" >{'2006–07 Detroit Red Wings season', 'Steve Yzerman'}</td>\n",
       "      <td id=\"T_e45e9_row2_col3\" class=\"data row2 col3\" >['List of Detroit Red Wings general managers | The Detroit Red Wings are a professional ice hockey team based in Detroit, Michigan. They are members...</td>\n",
       "      <td id=\"T_e45e9_row2_col4\" class=\"data row2 col4\" >Steve Yzerman.</td>\n",
       "      <td id=\"T_e45e9_row2_col5\" class=\"data row2 col5\" >False</td>\n",
       "    </tr>\n",
       "    <tr>\n",
       "      <th id=\"T_e45e9_level0_row3\" class=\"row_heading level0 row3\" >3</th>\n",
       "      <td id=\"T_e45e9_row3_col0\" class=\"data row3 col0\" >What river is near the Crichton Collegiate Church?</td>\n",
       "      <td id=\"T_e45e9_row3_col1\" class=\"data row3 col1\" >the River Tyne</td>\n",
       "      <td id=\"T_e45e9_row3_col2\" class=\"data row3 col2\" >{'Crichton Collegiate Church', 'Crichton Castle'}</td>\n",
       "      <td id=\"T_e45e9_row3_col3\" class=\"data row3 col3\" >['Kilmarnock | Kilmarnock (Scottish Gaelic: \"Cille Mheàrnaig\" , \"Meàrnag\\'s church\") is a large burgh in East Ayrshire, Scotland with a population of 46,350, making it...</td>\n",
       "      <td id=\"T_e45e9_row3_col4\" class=\"data row3 col4\" >Irvine</td>\n",
       "      <td id=\"T_e45e9_row3_col5\" class=\"data row3 col5\" >False</td>\n",
       "    </tr>\n",
       "    <tr>\n",
       "      <th id=\"T_e45e9_level0_row4\" class=\"row_heading level0 row4\" >4</th>\n",
       "      <td id=\"T_e45e9_row4_col0\" class=\"data row4 col0\" >In the 10th Century A.D. Ealhswith had a son called Æthelweard by which English king?</td>\n",
       "      <td id=\"T_e45e9_row4_col1\" class=\"data row4 col1\" >King Alfred the Great</td>\n",
       "      <td id=\"T_e45e9_row4_col2\" class=\"data row4 col2\" >{'Ealhswith', 'Æthelweard (son of Alfred)'}</td>\n",
       "      <td id=\"T_e45e9_row4_col3\" class=\"data row4 col3\" >['Æthelweard (son of Alfred) | Æthelweard (d. 920 or 922) was the younger son of King Alfred the Great and Ealhswith.', '10th century | The...</td>\n",
       "      <td id=\"T_e45e9_row4_col4\" class=\"data row4 col4\" >Alfred</td>\n",
       "      <td id=\"T_e45e9_row4_col5\" class=\"data row4 col5\" >False</td>\n",
       "    </tr>\n",
       "  </tbody>\n",
       "</table>\n"
      ],
      "text/plain": [
       "<pandas.io.formats.style.Styler at 0x726c8454af90>"
      ]
     },
     "metadata": {},
     "output_type": "display_data"
    },
    {
     "data": {
      "text/html": [
       "\n",
       "                <div style='\n",
       "                    text-align: center;\n",
       "                    font-size: 16px;\n",
       "                    font-weight: bold;\n",
       "                    color: #555;\n",
       "                    margin: 10px 0;'>\n",
       "                    ... 45 more rows not displayed ...\n",
       "                </div>\n",
       "                "
      ],
      "text/plain": [
       "<IPython.core.display.HTML object>"
      ]
     },
     "metadata": {},
     "output_type": "display_data"
    },
    {
     "name": "stdout",
     "output_type": "stream",
     "text": [
      "## Retrieval Score for uncompiled Baleen: 30.0\n"
     ]
    }
   ],
   "source": [
    "# Evaluate the uncompiled Baleen pipeline\n",
    "uncompiled_baleen_retrieval_score = evaluate_on_hotpotqa(\n",
    "    uncompiled_baleen, \n",
    "    metric=gold_passages_retrieved\n",
    ")\n",
    "print(f\"## Retrieval Score for uncompiled Baleen: {uncompiled_baleen_retrieval_score}\")"
   ]
  },
  {
   "cell_type": "code",
   "execution_count": 14,
   "id": "f4cc5221-51f8-4031-af5d-a9e12a63464b",
   "metadata": {},
   "outputs": [
    {
     "name": "stdout",
     "output_type": "stream",
     "text": [
      "Average Metric: 15 / 50  (30.0): 100%|████████████████████████████████████████████████████████████████████████████████████████████████████| 50/50 [16:45<00:00, 20.11s/it]\n"
     ]
    },
    {
     "data": {
      "text/html": [
       "<style type=\"text/css\">\n",
       "#T_1a061 th {\n",
       "  text-align: left;\n",
       "}\n",
       "#T_1a061 td {\n",
       "  text-align: left;\n",
       "}\n",
       "#T_1a061_row0_col0, #T_1a061_row0_col1, #T_1a061_row0_col2, #T_1a061_row0_col3, #T_1a061_row0_col4, #T_1a061_row0_col5, #T_1a061_row1_col0, #T_1a061_row1_col1, #T_1a061_row1_col2, #T_1a061_row1_col3, #T_1a061_row1_col4, #T_1a061_row1_col5, #T_1a061_row2_col0, #T_1a061_row2_col1, #T_1a061_row2_col2, #T_1a061_row2_col3, #T_1a061_row2_col4, #T_1a061_row2_col5, #T_1a061_row3_col0, #T_1a061_row3_col1, #T_1a061_row3_col2, #T_1a061_row3_col3, #T_1a061_row3_col4, #T_1a061_row3_col5, #T_1a061_row4_col0, #T_1a061_row4_col1, #T_1a061_row4_col2, #T_1a061_row4_col3, #T_1a061_row4_col4, #T_1a061_row4_col5 {\n",
       "  text-align: left;\n",
       "  white-space: pre-wrap;\n",
       "  word-wrap: break-word;\n",
       "  max-width: 400px;\n",
       "}\n",
       "</style>\n",
       "<table id=\"T_1a061\">\n",
       "  <thead>\n",
       "    <tr>\n",
       "      <th class=\"blank level0\" >&nbsp;</th>\n",
       "      <th id=\"T_1a061_level0_col0\" class=\"col_heading level0 col0\" >question</th>\n",
       "      <th id=\"T_1a061_level0_col1\" class=\"col_heading level0 col1\" >example_answer</th>\n",
       "      <th id=\"T_1a061_level0_col2\" class=\"col_heading level0 col2\" >gold_titles</th>\n",
       "      <th id=\"T_1a061_level0_col3\" class=\"col_heading level0 col3\" >context</th>\n",
       "      <th id=\"T_1a061_level0_col4\" class=\"col_heading level0 col4\" >pred_answer</th>\n",
       "      <th id=\"T_1a061_level0_col5\" class=\"col_heading level0 col5\" >gold_passages_retrieved</th>\n",
       "    </tr>\n",
       "  </thead>\n",
       "  <tbody>\n",
       "    <tr>\n",
       "      <th id=\"T_1a061_level0_row0\" class=\"row_heading level0 row0\" >0</th>\n",
       "      <td id=\"T_1a061_row0_col0\" class=\"data row0 col0\" >Are both Cangzhou and Qionghai in the Hebei province of China?</td>\n",
       "      <td id=\"T_1a061_row0_col1\" class=\"data row0 col1\" >no</td>\n",
       "      <td id=\"T_1a061_row0_col2\" class=\"data row0 col2\" >{'Cangzhou', 'Qionghai'}</td>\n",
       "      <td id=\"T_1a061_row0_col3\" class=\"data row0 col3\" >['Cangzhou | Cangzhou () is a prefecture-level city in eastern Hebei province, People\\'s Republic of China. At the 2010 census, Cangzhou\\'s built-up (\"or metro\") area...</td>\n",
       "      <td id=\"T_1a061_row0_col4\" class=\"data row0 col4\" >Context: [1] \"Cangzhou | Cangzhou () is a prefecture-level city in eastern Hebei province, People's Republic of China...\" Question: Are both Cangzhou and Qionghai in...</td>\n",
       "      <td id=\"T_1a061_row0_col5\" class=\"data row0 col5\" >False</td>\n",
       "    </tr>\n",
       "    <tr>\n",
       "      <th id=\"T_1a061_level0_row1\" class=\"row_heading level0 row1\" >1</th>\n",
       "      <td id=\"T_1a061_row1_col0\" class=\"data row1 col0\" >Who conducts the draft in which Marc-Andre Fleury was drafted to the Vegas Golden Knights for the 2017-18 season?</td>\n",
       "      <td id=\"T_1a061_row1_col1\" class=\"data row1 col1\" >National Hockey League</td>\n",
       "      <td id=\"T_1a061_row1_col2\" class=\"data row1 col2\" >{'2017 NHL Expansion Draft', '2017–18 Pittsburgh Penguins season'}</td>\n",
       "      <td id=\"T_1a061_row1_col3\" class=\"data row1 col3\" >[\"Marc-André Fleury | Marc-André Fleury (born November 28, 1984) is a French-Canadian professional ice hockey goaltender playing for the Vegas Golden Knights of the National...</td>\n",
       "      <td id=\"T_1a061_row1_col4\" class=\"data row1 col4\" >NHL</td>\n",
       "      <td id=\"T_1a061_row1_col5\" class=\"data row1 col5\" >✔️ [True]</td>\n",
       "    </tr>\n",
       "    <tr>\n",
       "      <th id=\"T_1a061_level0_row2\" class=\"row_heading level0 row2\" >2</th>\n",
       "      <td id=\"T_1a061_row2_col0\" class=\"data row2 col0\" >The Wings entered a new era, following the retirement of which Canadian retired professional ice hockey player and current general manager of the Tampa Bay...</td>\n",
       "      <td id=\"T_1a061_row2_col1\" class=\"data row2 col1\" >Steve Yzerman</td>\n",
       "      <td id=\"T_1a061_row2_col2\" class=\"data row2 col2\" >{'2006–07 Detroit Red Wings season', 'Steve Yzerman'}</td>\n",
       "      <td id=\"T_1a061_row2_col3\" class=\"data row2 col3\" >['List of Detroit Red Wings general managers | The Detroit Red Wings are a professional ice hockey team based in Detroit, Michigan. They are members...</td>\n",
       "      <td id=\"T_1a061_row2_col4\" class=\"data row2 col4\" >Steve</td>\n",
       "      <td id=\"T_1a061_row2_col5\" class=\"data row2 col5\" >False</td>\n",
       "    </tr>\n",
       "    <tr>\n",
       "      <th id=\"T_1a061_level0_row3\" class=\"row_heading level0 row3\" >3</th>\n",
       "      <td id=\"T_1a061_row3_col0\" class=\"data row3 col0\" >What river is near the Crichton Collegiate Church?</td>\n",
       "      <td id=\"T_1a061_row3_col1\" class=\"data row3 col1\" >the River Tyne</td>\n",
       "      <td id=\"T_1a061_row3_col2\" class=\"data row3 col2\" >{'Crichton Collegiate Church', 'Crichton Castle'}</td>\n",
       "      <td id=\"T_1a061_row3_col3\" class=\"data row3 col3\" >['Kilmarnock | Kilmarnock (Scottish Gaelic: \"Cille Mheàrnaig\" , \"Meàrnag\\'s church\") is a large burgh in East Ayrshire, Scotland with a population of 46,350, making it...</td>\n",
       "      <td id=\"T_1a061_row3_col4\" class=\"data row3 col4\" >Context: [1] \"Kilmarnock | Kilmarnock (Scottish Gaelic: \"Cille Mheàrnaig\", \"Meàrnag's church\") is a large burgh in East Ayrshire, Scotland with a population of 46,350, making...</td>\n",
       "      <td id=\"T_1a061_row3_col5\" class=\"data row3 col5\" >False</td>\n",
       "    </tr>\n",
       "    <tr>\n",
       "      <th id=\"T_1a061_level0_row4\" class=\"row_heading level0 row4\" >4</th>\n",
       "      <td id=\"T_1a061_row4_col0\" class=\"data row4 col0\" >In the 10th Century A.D. Ealhswith had a son called Æthelweard by which English king?</td>\n",
       "      <td id=\"T_1a061_row4_col1\" class=\"data row4 col1\" >King Alfred the Great</td>\n",
       "      <td id=\"T_1a061_row4_col2\" class=\"data row4 col2\" >{'Ealhswith', 'Æthelweard (son of Alfred)'}</td>\n",
       "      <td id=\"T_1a061_row4_col3\" class=\"data row4 col3\" >['Æthelweard (son of Alfred) | Æthelweard (d. 920 or 922) was the younger son of King Alfred the Great and Ealhswith.', '10th century | The...</td>\n",
       "      <td id=\"T_1a061_row4_col4\" class=\"data row4 col4\" >Alfred</td>\n",
       "      <td id=\"T_1a061_row4_col5\" class=\"data row4 col5\" >False</td>\n",
       "    </tr>\n",
       "  </tbody>\n",
       "</table>\n"
      ],
      "text/plain": [
       "<pandas.io.formats.style.Styler at 0x726c7dfc3290>"
      ]
     },
     "metadata": {},
     "output_type": "display_data"
    },
    {
     "data": {
      "text/html": [
       "\n",
       "                <div style='\n",
       "                    text-align: center;\n",
       "                    font-size: 16px;\n",
       "                    font-weight: bold;\n",
       "                    color: #555;\n",
       "                    margin: 10px 0;'>\n",
       "                    ... 45 more rows not displayed ...\n",
       "                </div>\n",
       "                "
      ],
      "text/plain": [
       "<IPython.core.display.HTML object>"
      ]
     },
     "metadata": {},
     "output_type": "display_data"
    },
    {
     "name": "stdout",
     "output_type": "stream",
     "text": [
      "## Retrieval Score for compiled Baleen: 30.0\n"
     ]
    }
   ],
   "source": [
    "# Evaluate the compiled Baleen pipeline\n",
    "compiled_baleen_retrieval_score = evaluate_on_hotpotqa(\n",
    "    compiled_baleen, \n",
    "    metric=gold_passages_retrieved\n",
    ")\n",
    "print(f\"## Retrieval Score for compiled Baleen: {compiled_baleen_retrieval_score}\")"
   ]
  },
  {
   "cell_type": "code",
   "execution_count": 17,
   "id": "fc6f8a13-3eec-4db4-9b0f-e1c766976be3",
   "metadata": {},
   "outputs": [],
   "source": [
    "# Save the compiled pipeline\n",
    "compiled_baleen.save(\"./saved_pipeline\")"
   ]
  }
 ],
 "metadata": {
  "kernelspec": {
   "display_name": "Python 3 (ipykernel)",
   "language": "python",
   "name": "python3"
  },
  "language_info": {
   "codemirror_mode": {
    "name": "ipython",
    "version": 3
   },
   "file_extension": ".py",
   "mimetype": "text/x-python",
   "name": "python",
   "nbconvert_exporter": "python",
   "pygments_lexer": "ipython3",
   "version": "3.12.3"
  }
 },
 "nbformat": 4,
 "nbformat_minor": 5
}
